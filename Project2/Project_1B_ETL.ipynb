{
 "cells": [
  {
   "cell_type": "markdown",
   "metadata": {
    "editable": true
   },
   "source": [
    "# Part I. ETL Pipeline for Pre-Processing the Files"
   ]
  },
  {
   "cell_type": "markdown",
   "metadata": {
    "editable": true
   },
   "source": [
    "## PLEASE RUN THE FOLLOWING CODE FOR PRE-PROCESSING THE FILES"
   ]
  },
  {
   "cell_type": "markdown",
   "metadata": {
    "editable": true
   },
   "source": [
    "#### Import Python packages "
   ]
  },
  {
   "cell_type": "code",
   "execution_count": 1,
   "metadata": {
    "editable": true
   },
   "outputs": [],
   "source": [
    "# Import Python packages \n",
    "import pandas as pd\n",
    "import cassandra\n",
    "import re\n",
    "import os\n",
    "import glob\n",
    "import numpy as np\n",
    "import json\n",
    "import csv"
   ]
  },
  {
   "cell_type": "markdown",
   "metadata": {
    "editable": true
   },
   "source": [
    "#### Creating list of filepaths to process original event csv data files"
   ]
  },
  {
   "cell_type": "code",
   "execution_count": 2,
   "metadata": {
    "editable": true
   },
   "outputs": [
    {
     "name": "stdout",
     "output_type": "stream",
     "text": [
      "/home/workspace/Udcty-DataEngineering/Project2\n",
      "['/home/workspace/Udcty-DataEngineering/Project2/event_data/2018-11-30-events.csv', '/home/workspace/Udcty-DataEngineering/Project2/event_data/2018-11-23-events.csv', '/home/workspace/Udcty-DataEngineering/Project2/event_data/2018-11-22-events.csv', '/home/workspace/Udcty-DataEngineering/Project2/event_data/2018-11-29-events.csv', '/home/workspace/Udcty-DataEngineering/Project2/event_data/2018-11-11-events.csv', '/home/workspace/Udcty-DataEngineering/Project2/event_data/2018-11-14-events.csv', '/home/workspace/Udcty-DataEngineering/Project2/event_data/2018-11-20-events.csv', '/home/workspace/Udcty-DataEngineering/Project2/event_data/2018-11-15-events.csv', '/home/workspace/Udcty-DataEngineering/Project2/event_data/2018-11-05-events.csv', '/home/workspace/Udcty-DataEngineering/Project2/event_data/2018-11-28-events.csv', '/home/workspace/Udcty-DataEngineering/Project2/event_data/2018-11-25-events.csv', '/home/workspace/Udcty-DataEngineering/Project2/event_data/2018-11-16-events.csv', '/home/workspace/Udcty-DataEngineering/Project2/event_data/2018-11-18-events.csv', '/home/workspace/Udcty-DataEngineering/Project2/event_data/2018-11-24-events.csv', '/home/workspace/Udcty-DataEngineering/Project2/event_data/2018-11-04-events.csv', '/home/workspace/Udcty-DataEngineering/Project2/event_data/2018-11-19-events.csv', '/home/workspace/Udcty-DataEngineering/Project2/event_data/2018-11-26-events.csv', '/home/workspace/Udcty-DataEngineering/Project2/event_data/2018-11-12-events.csv', '/home/workspace/Udcty-DataEngineering/Project2/event_data/2018-11-27-events.csv', '/home/workspace/Udcty-DataEngineering/Project2/event_data/2018-11-06-events.csv', '/home/workspace/Udcty-DataEngineering/Project2/event_data/2018-11-09-events.csv', '/home/workspace/Udcty-DataEngineering/Project2/event_data/2018-11-03-events.csv', '/home/workspace/Udcty-DataEngineering/Project2/event_data/2018-11-21-events.csv', '/home/workspace/Udcty-DataEngineering/Project2/event_data/2018-11-07-events.csv', '/home/workspace/Udcty-DataEngineering/Project2/event_data/2018-11-01-events.csv', '/home/workspace/Udcty-DataEngineering/Project2/event_data/2018-11-13-events.csv', '/home/workspace/Udcty-DataEngineering/Project2/event_data/2018-11-17-events.csv', '/home/workspace/Udcty-DataEngineering/Project2/event_data/2018-11-08-events.csv', '/home/workspace/Udcty-DataEngineering/Project2/event_data/2018-11-10-events.csv', '/home/workspace/Udcty-DataEngineering/Project2/event_data/2018-11-02-events.csv']\n"
     ]
    }
   ],
   "source": [
    "# checking the current working directory\n",
    "print(os.getcwd())\n",
    "\n",
    "# Get current folder and subfolder event data\n",
    "filepath = os.getcwd() + '/event_data'\n",
    "\n",
    "# Loop to create a list of files and collect each filepath\n",
    "for root, dirs, files in os.walk(filepath):\n",
    "    \n",
    "# join the file path and roots with the subdirectories using glob\n",
    "    file_path_list = glob.glob(os.path.join(root,'*'))\n",
    "    print(file_path_list)"
   ]
  },
  {
   "cell_type": "markdown",
   "metadata": {
    "editable": true
   },
   "source": [
    "#### Processing the files to create the data file csv that will be used for Apache Casssandra tables"
   ]
  },
  {
   "cell_type": "code",
   "execution_count": 3,
   "metadata": {
    "editable": true
   },
   "outputs": [
    {
     "name": "stdout",
     "output_type": "stream",
     "text": [
      "8056\n"
     ]
    }
   ],
   "source": [
    "# initiating an empty list of rows that will be generated from each file\n",
    "full_data_rows_list = [] \n",
    "    \n",
    "# for every filepath in the file path list \n",
    "for f in file_path_list:\n",
    "\n",
    "# reading csv file \n",
    "    with open(f, 'r', encoding = 'utf8', newline='') as csvfile: \n",
    "        # creating a csv reader object \n",
    "        csvreader = csv.reader(csvfile) \n",
    "        next(csvreader)\n",
    "        \n",
    " # extracting each data row one by one and append it        \n",
    "        for line in csvreader:\n",
    "            #print(line)\n",
    "            full_data_rows_list.append(line) \n",
    "            \n",
    "# Printing the total number of rows \n",
    "print(len(full_data_rows_list))\n",
    "\n",
    "\n",
    "# creating a smaller event data csv file called event_datafile_full csv that will be used to insert data into the Apache Cassandra tables\n",
    "csv.register_dialect('myDialect', quoting=csv.QUOTE_ALL, skipinitialspace=True)\n",
    "\n",
    "with open('event_datafile_new.csv', 'w', encoding = 'utf8', newline='') as f:\n",
    "    writer = csv.writer(f, dialect='myDialect')\n",
    "    writer.writerow(['artist','firstName','gender','itemInSession','lastName','length',\\\n",
    "                'level','location','sessionId','song','userId'])\n",
    "    for row in full_data_rows_list:\n",
    "        if (row[0] == ''):\n",
    "            continue\n",
    "        writer.writerow((row[0], row[2], row[3], row[4], row[5], row[6], row[7], row[8], row[12], row[13], row[16]))\n"
   ]
  },
  {
   "cell_type": "code",
   "execution_count": 4,
   "metadata": {
    "editable": true
   },
   "outputs": [
    {
     "name": "stdout",
     "output_type": "stream",
     "text": [
      "6821\n"
     ]
    }
   ],
   "source": [
    "# check the number of rows in your csv file\n",
    "with open('event_datafile_new.csv', 'r', encoding = 'utf8') as f:\n",
    "    print(sum(1 for line in f))"
   ]
  },
  {
   "cell_type": "markdown",
   "metadata": {
    "editable": true
   },
   "source": [
    "# Part II. Complete the Apache Cassandra coding portion of your project. \n",
    "\n",
    "## Now you are ready to work with the CSV file titled <font color=red>event_datafile_new.csv</font>, located within the Workspace directory.  The event_datafile_new.csv contains the following columns: \n",
    "- artist \n",
    "- firstName of user\n",
    "- gender of user\n",
    "- item number in session\n",
    "- last name of user\n",
    "- length of the song\n",
    "- level (paid or free song)\n",
    "- location of the user\n",
    "- sessionId\n",
    "- song title\n",
    "- userId\n",
    "\n",
    "The image below is a screenshot of what the denormalized data should appear like in the <font color=red>**event_datafile_new.csv**</font> after the code above is run:<br>\n",
    "\n",
    "<img src=\"images/image_event_datafile_new.jpg\">"
   ]
  },
  {
   "cell_type": "markdown",
   "metadata": {
    "editable": true
   },
   "source": [
    "## Begin writing your Apache Cassandra code in the cells below"
   ]
  },
  {
   "cell_type": "markdown",
   "metadata": {
    "editable": true
   },
   "source": [
    "#### Creating a Cluster"
   ]
  },
  {
   "cell_type": "code",
   "execution_count": 5,
   "metadata": {
    "editable": true
   },
   "outputs": [],
   "source": [
    "# This should make a connection to a Cassandra instance to local machine \n",
    "# (127.0.0.1)\n",
    "\n",
    "from cassandra.cluster import Cluster\n",
    "cluster = Cluster()\n",
    "\n",
    "# To establish connection and begin executing queries, need a session\n",
    "session = cluster.connect()"
   ]
  },
  {
   "cell_type": "markdown",
   "metadata": {
    "editable": true
   },
   "source": [
    "#### Create Keyspace"
   ]
  },
  {
   "cell_type": "code",
   "execution_count": 6,
   "metadata": {
    "editable": true
   },
   "outputs": [],
   "source": [
    "# Creating the keyspace in Cassandra\n",
    "try:\n",
    "    session.execute(\"\"\"\n",
    "           CREATE KEYSPACE IF NOT EXISTS musicdatabase\n",
    "           WITH REPLICATION =\n",
    "           {'class'       : 'SimpleStrategy',\n",
    "            'replication_factor' : 1}\n",
    "            \"\"\")\n",
    "except Exception as e:\n",
    "    print(e)"
   ]
  },
  {
   "cell_type": "markdown",
   "metadata": {
    "editable": true
   },
   "source": [
    "#### Set Keyspace"
   ]
  },
  {
   "cell_type": "code",
   "execution_count": 7,
   "metadata": {
    "editable": true
   },
   "outputs": [],
   "source": [
    "# Setting KEYSPACE to the keyspace specified above\n",
    "try:\n",
    "    session.set_keyspace(\"musicdatabase\")\n",
    "except Exception as e:\n",
    "    print(e)"
   ]
  },
  {
   "cell_type": "markdown",
   "metadata": {
    "editable": true
   },
   "source": [
    "### Now we need to create tables to run the following queries. Remember, with Apache Cassandra you model the database tables on the queries you want to run."
   ]
  },
  {
   "cell_type": "markdown",
   "metadata": {
    "editable": true
   },
   "source": [
    "## Create queries to ask the following three questions of the data\n",
    "\n",
    "### 1. Give me the artist, song title and song's length in the music app history that was heard during  sessionId = 338, and itemInSession  = 4\n",
    "\n",
    "\n",
    "### 2. Give me only the following: name of artist, song (sorted by itemInSession) and user (first and last name) for userid = 10, sessionid = 182\n",
    "    \n",
    "\n",
    "### 3. Give me every user name (first and last) in my music app history who listened to the song 'All Hands Against His Own'\n",
    "\n",
    "\n"
   ]
  },
  {
   "cell_type": "markdown",
   "metadata": {
    "editable": true
   },
   "source": [
    "# Songs Table: \n",
    "## For extracting the artist, song title and song's length in the music app history that was heard during particular session Id and item in session\n",
    "\n",
    "- Create table tb_song\n",
    "- Primary key is made using partition key sessionId, and clustering key itemInSession for filtering based on the requirements\n",
    "- Table Schema is:\n",
    "    - session_id INT PKey\n",
    "    - item_in_session INT Ckey\n",
    "    - artist TEXT\n",
    "    - song_title TEXT\n",
    "    - song_length FLOAT"
   ]
  },
  {
   "cell_type": "code",
   "execution_count": 8,
   "metadata": {
    "editable": true
   },
   "outputs": [],
   "source": [
    "# Query for creating the table tb_song \n",
    "SongtbQuery = \"CREATE TABLE IF NOT EXISTS tb_song\"\n",
    "SongtbQuery = f\"{SongtbQuery} (session_id INT, item_in_session INT,artist TEXT, song_title TEXT,\\\n",
    "                                    song_length FLOAT ,PRIMARY KEY ((session_id), item_in_session))\"\n",
    "\n",
    "# Creating the table with above query\n",
    "try:\n",
    "    session.execute(SongtbQuery)\n",
    "except Exception as e:\n",
    "    print(e)\n",
    "    \n",
    "# Verification query for extracting the artist, song title and song's length in the music app history that was heard during \\\n",
    "## sessionId = 338, and itemInSession = 4\n",
    "\n",
    "SelectQuery = \"\"\"SELECT artist, song_title, song_length\\\n",
    "                 FROM tb_song\\\n",
    "                 WHERE session_id = %s\\\n",
    "                 AND item_in_session = %s\\\n",
    "                 \"\"\"\n",
    "                    "
   ]
  },
  {
   "cell_type": "code",
   "execution_count": 9,
   "metadata": {
    "editable": true
   },
   "outputs": [],
   "source": [
    "file = 'event_datafile_new.csv'\n",
    "\n",
    "with open(file, encoding = 'utf8') as f:\n",
    "    csvreader = csv.reader(f)\n",
    "    next(csvreader) # skip header\n",
    "    for line in csvreader:\n",
    "## INSERT statements into the `query` variable\n",
    "        query = \"INSERT INTO tb_song(session_id, item_in_session, artist, song_title, song_length)\"\n",
    "        query = query + \"VALUES (%s, %s, %s, %s, %s)\"\n",
    "        ## TO-DO: Assign which column element should be assigned for each column in the INSERT statement.\n",
    "        ## For e.g., to INSERT artist_name and user first_name, you would change the code below to `line[0], line[1]`\n",
    "        session.execute(query, (int(line[8]), int(line[3]), line[0], line[9], float(line[5])))"
   ]
  },
  {
   "cell_type": "markdown",
   "metadata": {
    "editable": true
   },
   "source": [
    "#### SELECT to verify that the data have been inserted into each table"
   ]
  },
  {
   "cell_type": "code",
   "execution_count": 10,
   "metadata": {
    "editable": true,
    "scrolled": true
   },
   "outputs": [
    {
     "name": "stdout",
     "output_type": "stream",
     "text": [
      "Artist: Faithless \n",
      "Song Title: Music Matters (Mark Knight Dub) \n",
      "Song Length: 495.30731201171875\n"
     ]
    }
   ],
   "source": [
    "## SELECT statement to verify the data was entered into the table\n",
    "try:\n",
    "    rows = session.execute(SelectQuery, (338, 4))\n",
    "except Exception as e:\n",
    "    print(e)\n",
    "    \n",
    "for row in rows:\n",
    "    print(\"Artist: \"+row.artist, \"\\nSong Title: \"+row.song_title, \"\\nSong Length: \"+str(row.song_length))"
   ]
  },
  {
   "cell_type": "markdown",
   "metadata": {
    "editable": true
   },
   "source": [
    "# Artist Table: \n",
    "## For extracting the name of artist, song (sorted by itemInSession) and user (first and last name) for a particular userid and sessionid\n",
    "\n",
    "- Create table tb_artist\n",
    "- Primary key is made using partition key user_id and session_id, and clustering key itemInSession for sorting the results based on the requirements\n",
    "- Table Schema is:\n",
    "    - user_id INT PKey\n",
    "    - session_id INT PKey\n",
    "    - item_in_session INT CKey\n",
    "    - artist_name TEXT\n",
    "    - song_title TEXT\n",
    "    - user_first_name TEXT\n",
    "    - user_last_name TEXT"
   ]
  },
  {
   "cell_type": "code",
   "execution_count": 11,
   "metadata": {
    "editable": true
   },
   "outputs": [],
   "source": [
    "# Query for creating the table tb_artist \n",
    "ArtisttbQuery = \"CREATE TABLE IF NOT EXISTS tb_artist\"\n",
    "ArtisttbQuery = f\"{ArtisttbQuery} (user_id INT, session_id INT, item_in_session INT, \\\n",
    "                                        artist_name TEXT, song_title TEXT, user_first_name TEXT, \\\n",
    "                                        user_last_name TEXT, PRIMARY KEY ((user_id, session_id), item_in_session))\"\n",
    "\n",
    "# Creating the table with above query\n",
    "try:\n",
    "    session.execute(ArtisttbQuery)\n",
    "except Exception as e:\n",
    "    print(e)\n",
    "    \n",
    "    \n",
    "# Verification query for extracting the name of artist, song (sorted by itemInSession) and user (first and last name) \\\n",
    "## for userid = 10  and sessionid = 182\n",
    "\n",
    "    \n",
    "SelectQuery_Artist = \"\"\" SELECT artist_name, song_title, user_first_name, user_last_name FROM tb_artist\n",
    "                    WHERE user_id = %s\n",
    "                    AND session_id = %s \n",
    "                    ORDER BY item_in_session\n",
    "                    \"\"\"           "
   ]
  },
  {
   "cell_type": "code",
   "execution_count": 12,
   "metadata": {
    "editable": true
   },
   "outputs": [],
   "source": [
    "# Insert values in artist table\n",
    "file = 'event_datafile_new.csv'\n",
    "\n",
    "with open(file, encoding = 'utf8') as f:\n",
    "    csvreader = csv.reader(f)\n",
    "    next(csvreader) # skip header\n",
    "    for line in csvreader:\n",
    "        query = \"INSERT INTO tb_artist(user_id, session_id, item_in_session, artist_name, \\\n",
    "                                            song_title, user_first_name, user_last_name)\"\n",
    "        query = query + \"VALUES (%s, %s, %s, %s, %s, %s, %s)\"\n",
    "        ## Assign which column element should be assigned for each column in the INSERT statement.\n",
    "        session.execute(query, (int(line[10]), int(line[8]), int(line[3]), line[0], line[9], line[1], line[4]))"
   ]
  },
  {
   "cell_type": "markdown",
   "metadata": {
    "editable": true
   },
   "source": [
    "#### SELECT statement to verify the data was entered into the table"
   ]
  },
  {
   "cell_type": "code",
   "execution_count": 13,
   "metadata": {
    "editable": true
   },
   "outputs": [
    {
     "name": "stdout",
     "output_type": "stream",
     "text": [
      "Artist: Down To The Bone \n",
      "Song Title: Keep On Keepin' On \n",
      "User First Name: Sylvie \n",
      "User Last Name: Cruz\n",
      "Artist: Three Drives \n",
      "Song Title: Greece 2000 \n",
      "User First Name: Sylvie \n",
      "User Last Name: Cruz\n",
      "Artist: Sebastien Tellier \n",
      "Song Title: Kilometer \n",
      "User First Name: Sylvie \n",
      "User Last Name: Cruz\n",
      "Artist: Lonnie Gordon \n",
      "Song Title: Catch You Baby (Steve Pitron & Max Sanna Radio Edit) \n",
      "User First Name: Sylvie \n",
      "User Last Name: Cruz\n"
     ]
    }
   ],
   "source": [
    "## SELECT statement to verify the data was entered into the table\n",
    "try:\n",
    "    rows = session.execute(SelectQuery_Artist, (10, 182))\n",
    "except Exception as e:\n",
    "    print(e)\n",
    "    \n",
    "for row in rows:\n",
    "    print(\"Artist: \"+row.artist_name, \"\\nSong Title: \"+row.song_title, \"\\nUser First Name: \"+row.user_first_name, \"\\nUser Last Name: \"+row.user_last_name)"
   ]
  },
  {
   "cell_type": "markdown",
   "metadata": {
    "editable": true
   },
   "source": [
    "# User Table: \n",
    "## For extracting the user name (first and last) in my music app history who listened to the song 'All Hands Against His Own'\n",
    "\n",
    "- Create table tb_user\n",
    "- Primary key is made using partition key song_title, and clustering key user_id\n",
    "- Table Schema is:\n",
    "    - song_title TEXT\n",
    "    - user_id INT\n",
    "    - user_first_name TEXT\n",
    "    - user_last_name TEXT"
   ]
  },
  {
   "cell_type": "code",
   "execution_count": 14,
   "metadata": {
    "editable": true
   },
   "outputs": [],
   "source": [
    "# Query for creating the table tb_user \n",
    "UsertbQuery = \"CREATE TABLE IF NOT EXISTS tb_user\"\n",
    "UsertbQuery = f\"{UsertbQuery}(song_title TEXT, user_id INT, user_first_name TEXT, user_last_name TEXT, \\\n",
    "                                        PRIMARY KEY ((song_title), user_id))\"\n",
    "\n",
    "# Creating the table with above query\n",
    "try:\n",
    "    session.execute(UsertbQuery)\n",
    "except Exception as e:\n",
    "    print(e)                 \n",
    "    \n",
    "# Verification query for extracting the user name (first and last) in my music app history who listened to the song 'All Hands Against His Own'\n",
    "\n",
    "SelectQuery_User = \"\"\" SELECT user_first_name, user_last_name FROM tb_user WHERE song_title = %s;\"\"\"\n"
   ]
  },
  {
   "cell_type": "code",
   "execution_count": 15,
   "metadata": {
    "editable": true
   },
   "outputs": [],
   "source": [
    "# Insert values in User table\n",
    "file = 'event_datafile_new.csv'\n",
    "\n",
    "with open(file, encoding = 'utf8') as f:\n",
    "    csvreader = csv.reader(f)\n",
    "    next(csvreader) # skip header\n",
    "    for line in csvreader:\n",
    "        query = \"INSERT INTO tb_user(song_title, user_id, user_first_name, user_last_name)\"\n",
    "        query = query + \"VALUES (%s, %s, %s, %s)\"\n",
    "        ## Assign which column element should be assigned for each column in the INSERT statement.\n",
    "        session.execute(query, (line[9], int(line[10]), line[1], line[4]))"
   ]
  },
  {
   "cell_type": "markdown",
   "metadata": {
    "editable": true
   },
   "source": [
    "#### SELECT statement to verify the data was entered into the table"
   ]
  },
  {
   "cell_type": "code",
   "execution_count": 16,
   "metadata": {
    "editable": true
   },
   "outputs": [
    {
     "name": "stdout",
     "output_type": "stream",
     "text": [
      "User First Name: Jacqueline \n",
      "User Last Name: Lynch\n",
      "User First Name: Tegan \n",
      "User Last Name: Levine\n",
      "User First Name: Sara \n",
      "User Last Name: Johnson\n"
     ]
    }
   ],
   "source": [
    "## SELECT statement to verify the data was entered into the table\n",
    "try:\n",
    "    rows = session.execute(SelectQuery_User, ('All Hands Against His Own', ))\n",
    "except Exception as e:\n",
    "    print(e)\n",
    "\n",
    "for row in rows:\n",
    "    print(\"User First Name: \"+row.user_first_name, \"\\nUser Last Name: \"+row.user_last_name)"
   ]
  },
  {
   "cell_type": "markdown",
   "metadata": {
    "editable": true
   },
   "source": [
    "### Drop the tables before closing out the sessions"
   ]
  },
  {
   "cell_type": "code",
   "execution_count": 17,
   "metadata": {
    "editable": true
   },
   "outputs": [],
   "source": [
    "## Drop the table before closing out the sessions"
   ]
  },
  {
   "cell_type": "code",
   "execution_count": 18,
   "metadata": {
    "editable": true
   },
   "outputs": [
    {
     "data": {
      "text/plain": [
       "<cassandra.cluster.ResultSet at 0x7f7c93296eb8>"
      ]
     },
     "execution_count": 18,
     "metadata": {},
     "output_type": "execute_result"
    }
   ],
   "source": [
    "session.execute(\"DROP TABLE IF EXISTS tb_song\")\n",
    "session.execute(\"DROP TABLE IF EXISTS tb_artist\")\n",
    "session.execute(\"DROP TABLE IF EXISTS tb_user\")"
   ]
  },
  {
   "cell_type": "markdown",
   "metadata": {
    "editable": true
   },
   "source": [
    "### Close the session and cluster connection¶"
   ]
  },
  {
   "cell_type": "code",
   "execution_count": 19,
   "metadata": {
    "editable": true
   },
   "outputs": [],
   "source": [
    "session.shutdown()\n",
    "cluster.shutdown()"
   ]
  },
  {
   "cell_type": "code",
   "execution_count": null,
   "metadata": {
    "editable": true
   },
   "outputs": [],
   "source": []
  },
  {
   "cell_type": "code",
   "execution_count": null,
   "metadata": {
    "editable": true
   },
   "outputs": [],
   "source": []
  }
 ],
 "metadata": {
  "kernelspec": {
   "display_name": "Python 3",
   "language": "python",
   "name": "python3"
  },
  "language_info": {
   "codemirror_mode": {
    "name": "ipython",
    "version": 3
   },
   "file_extension": ".py",
   "mimetype": "text/x-python",
   "name": "python",
   "nbconvert_exporter": "python",
   "pygments_lexer": "ipython3",
   "version": "3.6.3"
  }
 },
 "nbformat": 4,
 "nbformat_minor": 4
}
